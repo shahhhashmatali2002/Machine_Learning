{
 "cells": [
  {
   "cell_type": "code",
   "execution_count": 3,
   "id": "24e4f60f",
   "metadata": {},
   "outputs": [],
   "source": [
    "import pandas as pd\n",
    "import numpy as np\n",
    "import matplotlib.pyplot as plt\n",
    "from sklearn import linear_model"
   ]
  },
  {
   "cell_type": "code",
   "execution_count": 5,
   "id": "a2b9a2d2",
   "metadata": {},
   "outputs": [
    {
     "data": {
      "text/html": [
       "<div>\n",
       "<style scoped>\n",
       "    .dataframe tbody tr th:only-of-type {\n",
       "        vertical-align: middle;\n",
       "    }\n",
       "\n",
       "    .dataframe tbody tr th {\n",
       "        vertical-align: top;\n",
       "    }\n",
       "\n",
       "    .dataframe thead th {\n",
       "        text-align: right;\n",
       "    }\n",
       "</style>\n",
       "<table border=\"1\" class=\"dataframe\">\n",
       "  <thead>\n",
       "    <tr style=\"text-align: right;\">\n",
       "      <th></th>\n",
       "      <th>MinTemp</th>\n",
       "      <th>MaxTemp</th>\n",
       "      <th>Rainfall</th>\n",
       "      <th>Evaporation</th>\n",
       "      <th>Sunshine</th>\n",
       "      <th>WindGustDir</th>\n",
       "      <th>WindGustSpeed</th>\n",
       "      <th>WindDir9am</th>\n",
       "      <th>WindDir3pm</th>\n",
       "      <th>WindSpeed9am</th>\n",
       "      <th>...</th>\n",
       "      <th>Humidity3pm</th>\n",
       "      <th>Pressure9am</th>\n",
       "      <th>Pressure3pm</th>\n",
       "      <th>Cloud9am</th>\n",
       "      <th>Cloud3pm</th>\n",
       "      <th>Temp9am</th>\n",
       "      <th>Temp3pm</th>\n",
       "      <th>RainToday</th>\n",
       "      <th>RISK_MM</th>\n",
       "      <th>RainTomorrow</th>\n",
       "    </tr>\n",
       "  </thead>\n",
       "  <tbody>\n",
       "    <tr>\n",
       "      <th>0</th>\n",
       "      <td>8.0</td>\n",
       "      <td>24.3</td>\n",
       "      <td>0.0</td>\n",
       "      <td>3.4</td>\n",
       "      <td>6.3</td>\n",
       "      <td>NW</td>\n",
       "      <td>30.0</td>\n",
       "      <td>SW</td>\n",
       "      <td>NW</td>\n",
       "      <td>6.0</td>\n",
       "      <td>...</td>\n",
       "      <td>29</td>\n",
       "      <td>1019.7</td>\n",
       "      <td>1015.0</td>\n",
       "      <td>7</td>\n",
       "      <td>7</td>\n",
       "      <td>14.4</td>\n",
       "      <td>23.6</td>\n",
       "      <td>No</td>\n",
       "      <td>3.6</td>\n",
       "      <td>Yes</td>\n",
       "    </tr>\n",
       "    <tr>\n",
       "      <th>1</th>\n",
       "      <td>14.0</td>\n",
       "      <td>26.9</td>\n",
       "      <td>3.6</td>\n",
       "      <td>4.4</td>\n",
       "      <td>9.7</td>\n",
       "      <td>ENE</td>\n",
       "      <td>39.0</td>\n",
       "      <td>E</td>\n",
       "      <td>W</td>\n",
       "      <td>4.0</td>\n",
       "      <td>...</td>\n",
       "      <td>36</td>\n",
       "      <td>1012.4</td>\n",
       "      <td>1008.4</td>\n",
       "      <td>5</td>\n",
       "      <td>3</td>\n",
       "      <td>17.5</td>\n",
       "      <td>25.7</td>\n",
       "      <td>Yes</td>\n",
       "      <td>3.6</td>\n",
       "      <td>Yes</td>\n",
       "    </tr>\n",
       "    <tr>\n",
       "      <th>2</th>\n",
       "      <td>13.7</td>\n",
       "      <td>23.4</td>\n",
       "      <td>3.6</td>\n",
       "      <td>5.8</td>\n",
       "      <td>3.3</td>\n",
       "      <td>NW</td>\n",
       "      <td>85.0</td>\n",
       "      <td>N</td>\n",
       "      <td>NNE</td>\n",
       "      <td>6.0</td>\n",
       "      <td>...</td>\n",
       "      <td>69</td>\n",
       "      <td>1009.5</td>\n",
       "      <td>1007.2</td>\n",
       "      <td>8</td>\n",
       "      <td>7</td>\n",
       "      <td>15.4</td>\n",
       "      <td>20.2</td>\n",
       "      <td>Yes</td>\n",
       "      <td>39.8</td>\n",
       "      <td>Yes</td>\n",
       "    </tr>\n",
       "    <tr>\n",
       "      <th>3</th>\n",
       "      <td>13.3</td>\n",
       "      <td>15.5</td>\n",
       "      <td>39.8</td>\n",
       "      <td>7.2</td>\n",
       "      <td>9.1</td>\n",
       "      <td>NW</td>\n",
       "      <td>54.0</td>\n",
       "      <td>WNW</td>\n",
       "      <td>W</td>\n",
       "      <td>30.0</td>\n",
       "      <td>...</td>\n",
       "      <td>56</td>\n",
       "      <td>1005.5</td>\n",
       "      <td>1007.0</td>\n",
       "      <td>2</td>\n",
       "      <td>7</td>\n",
       "      <td>13.5</td>\n",
       "      <td>14.1</td>\n",
       "      <td>Yes</td>\n",
       "      <td>2.8</td>\n",
       "      <td>Yes</td>\n",
       "    </tr>\n",
       "    <tr>\n",
       "      <th>4</th>\n",
       "      <td>7.6</td>\n",
       "      <td>16.1</td>\n",
       "      <td>2.8</td>\n",
       "      <td>5.6</td>\n",
       "      <td>10.6</td>\n",
       "      <td>SSE</td>\n",
       "      <td>50.0</td>\n",
       "      <td>SSE</td>\n",
       "      <td>ESE</td>\n",
       "      <td>20.0</td>\n",
       "      <td>...</td>\n",
       "      <td>49</td>\n",
       "      <td>1018.3</td>\n",
       "      <td>1018.5</td>\n",
       "      <td>7</td>\n",
       "      <td>7</td>\n",
       "      <td>11.1</td>\n",
       "      <td>15.4</td>\n",
       "      <td>Yes</td>\n",
       "      <td>0.0</td>\n",
       "      <td>No</td>\n",
       "    </tr>\n",
       "  </tbody>\n",
       "</table>\n",
       "<p>5 rows × 22 columns</p>\n",
       "</div>"
      ],
      "text/plain": [
       "   MinTemp  MaxTemp  Rainfall  Evaporation  Sunshine WindGustDir  \\\n",
       "0      8.0     24.3       0.0          3.4       6.3          NW   \n",
       "1     14.0     26.9       3.6          4.4       9.7         ENE   \n",
       "2     13.7     23.4       3.6          5.8       3.3          NW   \n",
       "3     13.3     15.5      39.8          7.2       9.1          NW   \n",
       "4      7.6     16.1       2.8          5.6      10.6         SSE   \n",
       "\n",
       "   WindGustSpeed WindDir9am WindDir3pm  WindSpeed9am  ...  Humidity3pm  \\\n",
       "0           30.0         SW         NW           6.0  ...           29   \n",
       "1           39.0          E          W           4.0  ...           36   \n",
       "2           85.0          N        NNE           6.0  ...           69   \n",
       "3           54.0        WNW          W          30.0  ...           56   \n",
       "4           50.0        SSE        ESE          20.0  ...           49   \n",
       "\n",
       "   Pressure9am  Pressure3pm  Cloud9am  Cloud3pm  Temp9am  Temp3pm  RainToday  \\\n",
       "0       1019.7       1015.0         7         7     14.4     23.6         No   \n",
       "1       1012.4       1008.4         5         3     17.5     25.7        Yes   \n",
       "2       1009.5       1007.2         8         7     15.4     20.2        Yes   \n",
       "3       1005.5       1007.0         2         7     13.5     14.1        Yes   \n",
       "4       1018.3       1018.5         7         7     11.1     15.4        Yes   \n",
       "\n",
       "   RISK_MM RainTomorrow  \n",
       "0      3.6          Yes  \n",
       "1      3.6          Yes  \n",
       "2     39.8          Yes  \n",
       "3      2.8          Yes  \n",
       "4      0.0           No  \n",
       "\n",
       "[5 rows x 22 columns]"
      ]
     },
     "execution_count": 5,
     "metadata": {},
     "output_type": "execute_result"
    }
   ],
   "source": [
    "df = pd.read_csv('weather.csv')\n",
    "df.head(5)"
   ]
  },
  {
   "cell_type": "code",
   "execution_count": 10,
   "id": "f9f0cbb4",
   "metadata": {},
   "outputs": [
    {
     "data": {
      "text/plain": [
       "<matplotlib.collections.PathCollection at 0x21bbc6dda60>"
      ]
     },
     "execution_count": 10,
     "metadata": {},
     "output_type": "execute_result"
    },
    {
     "data": {
      "image/png": "[encoded data removed]",
      "text/plain": [
       "<Figure size 432x288 with 1 Axes>"
      ]
     },
     "metadata": {
      "needs_background": "light"
     },
     "output_type": "display_data"
    }
   ],
   "source": [
    "%matplotlib inline\n",
    "plt.xlabel('Min & Max Temp')\n",
    "plt.ylabel('Rainfall')\n",
    "plt.scatter(df.MinTemp,df.Rainfall,color='green',marker=\"+\")\n",
    "plt.scatter(df.MaxTemp,df.Rainfall,color='red',marker=\"+\")"
   ]
  },
  {
   "cell_type": "code",
   "execution_count": 11,
   "id": "1ccf4dc1",
   "metadata": {},
   "outputs": [],
   "source": [
    "from sklearn.linear_model import LinearRegression\n",
    "model = LinearRegression()"
   ]
  },
  {
   "cell_type": "code",
   "execution_count": 20,
   "id": "7eda661f",
   "metadata": {},
   "outputs": [],
   "source": [
    "X = df[['MinTemp','MaxTemp']]"
   ]
  },
  {
   "cell_type": "code",
   "execution_count": 22,
   "id": "c9f644b5",
   "metadata": {},
   "outputs": [],
   "source": [
    "y = df[['Rainfall']]"
   ]
  },
  {
   "cell_type": "code",
   "execution_count": 23,
   "id": "88cef3ec",
   "metadata": {},
   "outputs": [],
   "source": [
    "from sklearn.model_selection import train_test_split\n",
    "X_train, X_test, y_train, y_test = train_test_split(X,y,test_size=0.2)"
   ]
  },
  {
   "cell_type": "code",
   "execution_count": 27,
   "id": "e64385e3",
   "metadata": {},
   "outputs": [
    {
     "data": {
      "text/plain": [
       "0.15801612983459334"
      ]
     },
     "execution_count": 27,
     "metadata": {},
     "output_type": "execute_result"
    }
   ],
   "source": [
    "model.score(X,y)"
   ]
  },
  {
   "cell_type": "code",
   "execution_count": 26,
   "id": "011edb0d",
   "metadata": {},
   "outputs": [
    {
     "data": {
      "text/plain": [
       "LinearRegression()"
      ]
     },
     "execution_count": 26,
     "metadata": {},
     "output_type": "execute_result"
    }
   ],
   "source": [
    "model.fit(X,y)"
   ]
  },
  {
   "cell_type": "code",
   "execution_count": 44,
   "id": "9dda6270",
   "metadata": {},
   "outputs": [],
   "source": [
    "p = model.predict(X)"
   ]
  },
  {
   "cell_type": "code",
   "execution_count": 45,
   "id": "43e9777e",
   "metadata": {},
   "outputs": [
    {
     "data": {
      "text/plain": [
       "[0.5026599540678811,\n",
       " 2.144632786939802,\n",
       " 3.1690884241270734,\n",
       " 5.596708453201637,\n",
       " 3.02878629876537,\n",
       " 2.1837741356188713,\n",
       " 1.7153185306705705,\n",
       " 3.0244316793059425,\n",
       " 2.4115202353596663,\n",
       " 1.1615711478449966,\n",
       " 0.6646849502709387,\n",
       " -0.27442868258327113,\n",
       " 0.19407714882081795,\n",
       " 0.04091207090398452,\n",
       " -0.8894923230313667,\n",
       " -0.22832847984085447,\n",
       " 0.6495191218466214,\n",
       " 0.17005140211027747,\n",
       " -0.29399935692280366,\n",
       " 0.6758477444263473,\n",
       " 0.5510630326794841,\n",
       " 5.60556837148786,\n",
       " 4.403670777394271,\n",
       " 2.1664561106927334,\n",
       " 2.2344298636438706,\n",
       " 2.810151249589742,\n",
       " 3.396734070956292,\n",
       " 1.3258990199172391,\n",
       " 3.4558981320769933,\n",
       " 2.8976454504246236,\n",
       " 4.736480235175031,\n",
       " 1.3433677242107418,\n",
       " 4.112657129352288,\n",
       " 1.9848102136943537,\n",
       " 4.027214672107648,\n",
       " 3.1341510155400663,\n",
       " 3.8368595361904108,\n",
       " 2.7576446837976554,\n",
       " 1.7396958625716321,\n",
       " 3.208531131540874,\n",
       " 3.987721738238058,\n",
       " 2.961063678093178,\n",
       " 2.481595958356834,\n",
       " -0.04237818983883557,\n",
       " -0.4626316219986881,\n",
       " 4.673011781050687,\n",
       " 2.521038665770636,\n",
       " 1.4110903448829357,\n",
       " 3.582784813869888,\n",
       " 2.810050796678164,\n",
       " 1.6236706161994139,\n",
       " 6.207668606469246,\n",
       " 2.282380904153374,\n",
       " 2.3000002878142443,\n",
       " 2.7290131853487427,\n",
       " 0.5946594537295589,\n",
       " 2.3350883757686165,\n",
       " 2.142480590437981,\n",
       " 0.7677467911764477,\n",
       " 0.06729091993950043,\n",
       " -0.1056959645958111,\n",
       " -0.4187338422138822,\n",
       " -0.3902530231323338,\n",
       " 4.084176310270742,\n",
       " 3.7930622093171804,\n",
       " 1.1573169812971442,\n",
       " -0.09473407626355623,\n",
       " 0.8860246869620632,\n",
       " 2.0681004744371734,\n",
       " 2.615391267757288,\n",
       " 0.038810100857952,\n",
       " 0.6781003938397463,\n",
       " 2.1251625655118427,\n",
       " 1.1268346450811455,\n",
       " 4.322783845432214,\n",
       " 0.4613161824312053,\n",
       " 1.6982014115675867,\n",
       " 3.234809527664811,\n",
       " 4.736480235175031,\n",
       " 5.082353551334075,\n",
       " 4.198049360141139,\n",
       " 5.233416659204877,\n",
       " 1.9255959261178632,\n",
       " 1.2601276899237117,\n",
       " 0.3101023951930362,\n",
       " 3.1209867042502037,\n",
       " 0.9800257037581934,\n",
       " 0.3671142598119168,\n",
       " 0.6167339097614333,\n",
       " 1.468353341780761,\n",
       " 1.1815938602866294,\n",
       " 3.34653038103339,\n",
       " 3.9944294600224612,\n",
       " 1.8951135899018619,\n",
       " 2.5475179677177286,\n",
       " 5.303542608657833,\n",
       " 4.655543076757185,\n",
       " 1.8140759785724399,\n",
       " 3.2391641471242405,\n",
       " 3.7775950221581325,\n",
       " 2.617342558435953,\n",
       " 1.3542291596314189,\n",
       " 0.31881163411189384,\n",
       " 3.2391641471242405,\n",
       " 4.418987285185954,\n",
       " 0.7850648161025848,\n",
       " 1.3717983168365002,\n",
       " 1.2426589856302068,\n",
       " 2.273721891690304,\n",
       " 1.1747856855906482,\n",
       " 0.9974944080516961,\n",
       " 0.6560259378078701,\n",
       " 3.7908597863595723,\n",
       " 1.0456965808401435,\n",
       " 2.194936929774279,\n",
       " 2.33063330339761,\n",
       " 1.4331145744590224,\n",
       " 1.30182304675091,\n",
       " 0.9581019270936837,\n",
       " 5.6295941181983995,\n",
       " 2.315166116238561,\n",
       " -0.17387062337010217,\n",
       " 0.22025509203317917,\n",
       " -0.357618490414513,\n",
       " 0.0955708331978915,\n",
       " 1.0828866388405478,\n",
       " 0.07815235536017706,\n",
       " 0.05838077519748808,\n",
       " 0.10868491803196711,\n",
       " 1.0588106656742182,\n",
       " -0.05539182176133206,\n",
       " -0.4581263231718937,\n",
       " 0.2773674095636389,\n",
       " -0.2239236339256383,\n",
       " -0.8281258389530546,\n",
       " -0.6638984197923916,\n",
       " -0.7515432999946379,\n",
       " 0.1043805250283274,\n",
       " 0.535646071976223,\n",
       " 2.832024799798463,\n",
       " 0.3167096640658613,\n",
       " 5.701771811241599,\n",
       " 3.5433421064560866,\n",
       " 2.3022027107718523,\n",
       " 4.246151080018009,\n",
       " 4.889645313091863,\n",
       " 3.7622785143664483,\n",
       " 0.9753697255640326,\n",
       " 1.008205164105009,\n",
       " 2.032761254203857,\n",
       " 0.6951672864869396,\n",
       " 2.9741275364714634,\n",
       " -0.5482247586106945,\n",
       " -0.29204806624414026,\n",
       " 3.3702547690091986,\n",
       " -0.8854390623066699,\n",
       " -0.5416677161936558,\n",
       " 0.45005293536421664,\n",
       " 1.792001522540564,\n",
       " 1.818229692208714,\n",
       " 1.080483310059785,\n",
       " 0.629596862316566,\n",
       " 0.4238247656960681,\n",
       " -0.22197234324697313,\n",
       " 1.6059005531711779,\n",
       " 1.5730148881744141,\n",
       " 0.6032682397368392,\n",
       " 1.4373185145510843,\n",
       " 0.46316702019829137,\n",
       " 1.9714952230371248,\n",
       " 3.361545530090341,\n",
       " 2.3830394162781197,\n",
       " -0.6117434391908247,\n",
       " 1.277495941305637,\n",
       " 2.034963677161466,\n",
       " -0.7671611665210545,\n",
       " 0.3712177469924036,\n",
       " -0.39060460832285493,\n",
       " 2.299849608446878,\n",
       " 3.2322555195166824,\n",
       " -0.2507042946074627,\n",
       " -0.4542739682703516,\n",
       " 2.2033950364141934,\n",
       " 0.3470413209144967,\n",
       " -0.2528062646534943,\n",
       " -0.7037931653082898,\n",
       " -0.9182745008476454,\n",
       " 2.7573433250629225,\n",
       " 2.8274190480600905,\n",
       " -0.8723249774725961,\n",
       " -1.6997679834140156,\n",
       " -1.0846038900543418,\n",
       " 2.893089925142042,\n",
       " 2.7595959744763205,\n",
       " -0.5439203656070539,\n",
       " -0.03822447620256142,\n",
       " -0.889843908221887,\n",
       " 1.7721797159220865,\n",
       " 4.401317675069296,\n",
       " 2.3128632403693743,\n",
       " -1.9121975753631286,\n",
       " -0.3031606339437607,\n",
       " 1.0213192489390837,\n",
       " 1.3255474347267184,\n",
       " 0.7935731491982869,\n",
       " 0.8920794648212134,\n",
       " -0.7169072501423654,\n",
       " 1.0344835602289466,\n",
       " 1.24901512222409,\n",
       " 0.2200541862100236,\n",
       " 0.3229653477481671,\n",
       " -0.7978946350159992,\n",
       " -1.2948310590458458,\n",
       " 0.8066872340323616,\n",
       " 1.9122809354606334,\n",
       " 4.50207664010562,\n",
       " 4.604987801643762,\n",
       " 3.4403304920063666,\n",
       " 1.500736742219638,\n",
       " -0.018603575407238004,\n",
       " 2.1815214862054733,\n",
       " 2.8799256138521776,\n",
       " 4.232785862904992,\n",
       " 4.471443624522252,\n",
       " 2.8054952713955816,\n",
       " 4.504228836607439,\n",
       " 1.6954464975963033,\n",
       " 1.2007627229798543,\n",
       " 2.2669639434501136,\n",
       " 2.3107110438675544,\n",
       " 0.23096584808649023,\n",
       " 1.597040634884955,\n",
       " 4.806304825893255,\n",
       " 0.7563328647420944,\n",
       " 2.3041037749947284,\n",
       " 1.2926617697299538,\n",
       " 1.2182314272733574,\n",
       " 2.805394818484004,\n",
       " 3.8999764051242316,\n",
       " 1.9144331319624532,\n",
       " -0.3294892565234875,\n",
       " 0.3995478867065838,\n",
       " 0.3053961905430862,\n",
       " 3.5168628045089947,\n",
       " 3.597900415838417,\n",
       " 0.7124853114130758,\n",
       " -0.07561544002611953,\n",
       " 0.44985202954106285,\n",
       " 0.30754838704490606,\n",
       " 2.757192645695557,\n",
       " 3.24096475843554,\n",
       " 1.7238268637662726,\n",
       " 3.0461043236915084,\n",
       " 3.602154582386268,\n",
       " 0.4278780264207649,\n",
       " 1.7501554863459994,\n",
       " 0.859294252736027,\n",
       " -0.01865380186302623,\n",
       " 0.5767889377897459,\n",
       " 0.6292955035818331,\n",
       " 2.214256471834871,\n",
       " 2.3434460294969526,\n",
       " 1.0846370236960592,\n",
       " 2.301851125581331,\n",
       " 0.430080449378373,\n",
       " 0.02068845263919794,\n",
       " 0.7322066651199766,\n",
       " 0.04481465226131487,\n",
       " 0.6117765728325413,\n",
       " 1.012358877741283,\n",
       " 0.9751688197408788,\n",
       " 1.48091493560116,\n",
       " -0.016501605361206373,\n",
       " -0.640374937639737,\n",
       " 3.216888785269211,\n",
       " 3.2081795463503537,\n",
       " 1.9078258630896272,\n",
       " 0.28342218742278824,\n",
       " 0.7847132309120637,\n",
       " 2.5208377599474807,\n",
       " 1.2597761047331901,\n",
       " 2.3390914100375237,\n",
       " 0.7956248927885303,\n",
       " 1.2027642401143082,\n",
       " 1.975598710217609,\n",
       " 1.7807885019293659,\n",
       " 2.104838494335479,\n",
       " 2.5141802646188665,\n",
       " 2.2406353208703864,\n",
       " 2.0304583783346715,\n",
       " 0.8044345846189644,\n",
       " -0.36457734447786017,\n",
       " -1.3518931501205165,\n",
       " 0.5571178105386343,\n",
       " 1.52256006597257,\n",
       " 0.898586280782462,\n",
       " 2.301851125581331,\n",
       " -1.1132353885032549,\n",
       " 0.11709279821609186,\n",
       " -1.15037522004787,\n",
       " -1.176703842627596,\n",
       " 0.28567483683618633,\n",
       " -0.2484516451940646,\n",
       " 0.009877243674308644,\n",
       " 2.043672916080323,\n",
       " 1.9998253627513045,\n",
       " -0.287844126152077,\n",
       " 2.512028068117046,\n",
       " 3.6897994625885167,\n",
       " 3.4949892543002736,\n",
       " 2.4880525478622935,\n",
       " -0.7037931653082898,\n",
       " 0.1477760402552475,\n",
       " -1.2117417041261804,\n",
       " -0.9599698576748441,\n",
       " -1.3364761894172563,\n",
       " -2.146350038153596,\n",
       " 0.5245837307323908,\n",
       " 4.232936542272357,\n",
       " 2.3042544543620944,\n",
       " 2.442002571575667,\n",
       " 0.8154466994070084,\n",
       " -0.29875578802854363,\n",
       " -0.375237874075383,\n",
       " 0.6230398198995282,\n",
       " 0.7061291748191936,\n",
       " -0.7058449088985324,\n",
       " 3.079140668055638,\n",
       " 0.4718260326613599,\n",
       " 0.34488912441267683,\n",
       " -0.6686548508981289,\n",
       " -0.5809597442400918,\n",
       " 3.1647338046676445,\n",
       " 0.9863316138962883,\n",
       " 0.5944083214506151,\n",
       " -1.0276924783470376,\n",
       " -1.5791872117592147,\n",
       " 2.6525813257576925,\n",
       " 4.346809592142756,\n",
       " 2.4444059003564305,\n",
       " 3.902329507449206,\n",
       " 0.025193751465992342,\n",
       " -0.5154897729812955,\n",
       " -1.205033982341777,\n",
       " -0.1563516926208104,\n",
       " 1.209723094177655,\n",
       " -0.8218199288149615,\n",
       " -0.629111690572751,\n",
       " 3.175595240088321,\n",
       " 2.5450644124811754,\n",
       " 0.0888128849576999,\n",
       " -0.6795162863188065,\n",
       " -0.169415550999096,\n",
       " -0.751643752906217,\n",
       " 0.8573931885131509,\n",
       " 2.13352021924018,\n",
       " 1.6429901582600048,\n",
       " 0.5747371941995034,\n",
       " -1.268502436466119,\n",
       " -1.846325792458023,\n",
       " -0.12997284358529537,\n",
       " -1.1828590733983244,\n",
       " -1.217947161352697,\n",
       " 3.819189926073753,\n",
       " 1.5207092282054822,\n",
       " 0.35394994852205564]"
      ]
     },
     "execution_count": 45,
     "metadata": {},
     "output_type": "execute_result"
    }
   ],
   "source": [
    "pArray=[]\n",
    "for i in p:\n",
    "    for j in i:\n",
    "        pArray.append(j)\n",
    "pArray"
   ]
  },
  {
   "cell_type": "code",
   "execution_count": 53,
   "id": "52077487",
   "metadata": {},
   "outputs": [],
   "source": [
    "df['New_Ranfall'] = pArray"
   ]
  },
  {
   "cell_type": "code",
   "execution_count": 55,
   "id": "9cb5827e",
   "metadata": {},
   "outputs": [
    {
     "data": {
      "text/plain": [
       "0       0.0\n",
       "1       3.6\n",
       "2       3.6\n",
       "3      39.8\n",
       "4       2.8\n",
       "       ... \n",
       "361     0.0\n",
       "362     0.0\n",
       "363     0.0\n",
       "364     0.0\n",
       "365     0.0\n",
       "Name: Rainfall, Length: 366, dtype: float64"
      ]
     },
     "execution_count": 55,
     "metadata": {},
     "output_type": "execute_result"
    }
   ],
   "source": [
    "df.Rainfall"
   ]
  },
  {
   "cell_type": "code",
   "execution_count": 56,
   "id": "3875640a",
   "metadata": {},
   "outputs": [
    {
     "data": {
      "text/plain": [
       "0      0.502660\n",
       "1      2.144633\n",
       "2      3.169088\n",
       "3      5.596708\n",
       "4      3.028786\n",
       "         ...   \n",
       "361   -1.182859\n",
       "362   -1.217947\n",
       "363    3.819190\n",
       "364    1.520709\n",
       "365    0.353950\n",
       "Name: New_Ranfall, Length: 366, dtype: float64"
      ]
     },
     "execution_count": 56,
     "metadata": {},
     "output_type": "execute_result"
    }
   ],
   "source": [
    "df.New_Ranfall"
   ]
  },
  {
   "cell_type": "code",
   "execution_count": 61,
   "id": "b640abc8",
   "metadata": {},
   "outputs": [
    {
     "data": {
      "text/plain": [
       "0.15801612983459334"
      ]
     },
     "execution_count": 61,
     "metadata": {},
     "output_type": "execute_result"
    }
   ],
   "source": [
    "model.score(X,y)"
   ]
  },
  {
   "cell_type": "code",
   "execution_count": 62,
   "id": "8f45219d",
   "metadata": {
    "scrolled": true
   },
   "outputs": [
    {
     "data": {
      "text/plain": [
       "<matplotlib.collections.PathCollection at 0x21bc2477a30>"
      ]
     },
     "execution_count": 62,
     "metadata": {},
     "output_type": "execute_result"
    },
    {
     "data": {
      "image/png": "[encoded data removed]",
      "text/plain": [
       "<Figure size 432x288 with 1 Axes>"
      ]
     },
     "metadata": {
      "needs_background": "light"
     },
     "output_type": "display_data"
    }
   ],
   "source": [
    "%matplotlib inline\n",
    "plt.xlabel('Min & Max Temp')\n",
    "plt.ylabel('Rainfall')\n",
    "plt.scatter(df.MinTemp,df.Rainfall,color='green',marker=\"+\")\n",
    "plt.scatter(df.MaxTemp,df.New_Ranfall,color='red',marker=\"+\")"
   ]
  },
  {
   "cell_type": "code",
   "execution_count": 63,
   "id": "35aeec54",
   "metadata": {},
   "outputs": [
    {
     "data": {
      "text/plain": [
       "MinTemp           0\n",
       "MaxTemp           0\n",
       "Rainfall          0\n",
       "Evaporation       0\n",
       "Sunshine          3\n",
       "WindGustDir       3\n",
       "WindGustSpeed     2\n",
       "WindDir9am       31\n",
       "WindDir3pm        1\n",
       "WindSpeed9am      7\n",
       "WindSpeed3pm      0\n",
       "Humidity9am       0\n",
       "Humidity3pm       0\n",
       "Pressure9am       0\n",
       "Pressure3pm       0\n",
       "Cloud9am          0\n",
       "Cloud3pm          0\n",
       "Temp9am           0\n",
       "Temp3pm           0\n",
       "RainToday         0\n",
       "RISK_MM           0\n",
       "RainTomorrow      0\n",
       "New Ranfall       0\n",
       "New_Ranfall       0\n",
       "dtype: int64"
      ]
     },
     "execution_count": 63,
     "metadata": {},
     "output_type": "execute_result"
    }
   ],
   "source": [
    "df.isnull().sum()"
   ]
  },
  {
   "cell_type": "code",
   "execution_count": 64,
   "id": "8134994a",
   "metadata": {},
   "outputs": [
    {
     "data": {
      "text/plain": [
       "366"
      ]
     },
     "execution_count": 64,
     "metadata": {},
     "output_type": "execute_result"
    }
   ],
   "source": [
    "len(pArray)"
   ]
  },
  {
   "cell_type": "code",
   "execution_count": 68,
   "id": "61be8b60",
   "metadata": {},
   "outputs": [
    {
     "data": {
      "text/plain": [
       "0.17872823500306534"
      ]
     },
     "execution_count": 68,
     "metadata": {},
     "output_type": "execute_result"
    }
   ],
   "source": [
    "model.score(X_test,y_test)"
   ]
  },
  {
   "cell_type": "code",
   "execution_count": null,
   "id": "d9edd64d",
   "metadata": {},
   "outputs": [],
   "source": []
  },
  {
   "cell_type": "code",
   "execution_count": null,
   "id": "5ba4a615",
   "metadata": {},
   "outputs": [],
   "source": []
  }
 ],
 "metadata": {
  "kernelspec": {
   "display_name": "Python 3 (ipykernel)",
   "language": "python",
   "name": "python3"
  },
  "language_info": {
   "codemirror_mode": {
    "name": "ipython",
    "version": 3
   },
   "file_extension": ".py",
   "mimetype": "text/x-python",
   "name": "python",
   "nbconvert_exporter": "python",
   "pygments_lexer": "ipython3",
   "version": "3.9.12"
  }
 },
 "nbformat": 4,
 "nbformat_minor": 5
}
