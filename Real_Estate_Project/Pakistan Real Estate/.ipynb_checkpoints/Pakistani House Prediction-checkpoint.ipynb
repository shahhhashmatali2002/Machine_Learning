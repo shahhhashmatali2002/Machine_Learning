{
 "cells": [
  {
   "cell_type": "code",
   "execution_count": 1,
   "id": "0afced34",
   "metadata": {},
   "outputs": [],
   "source": [
    "import pandas as pd\n",
    "import numpy as np\n",
    "from matplotlib import pyplot as plt\n",
    "%matplotlib inline\n",
    "import matplotlib\n",
    "matplotlib.rcParams['figure.figsize'] = (10,20)"
   ]
  },
  {
   "cell_type": "code",
   "execution_count": 11,
   "id": "375ed022",
   "metadata": {},
   "outputs": [
    {
     "data": {
      "text/html": [
       "<div>\n",
       "<style scoped>\n",
       "    .dataframe tbody tr th:only-of-type {\n",
       "        vertical-align: middle;\n",
       "    }\n",
       "\n",
       "    .dataframe tbody tr th {\n",
       "        vertical-align: top;\n",
       "    }\n",
       "\n",
       "    .dataframe thead th {\n",
       "        text-align: right;\n",
       "    }\n",
       "</style>\n",
       "<table border=\"1\" class=\"dataframe\">\n",
       "  <thead>\n",
       "    <tr style=\"text-align: right;\">\n",
       "      <th></th>\n",
       "      <th>property_id</th>\n",
       "      <th>location_id</th>\n",
       "      <th>page_url</th>\n",
       "      <th>property_type</th>\n",
       "      <th>price</th>\n",
       "      <th>location</th>\n",
       "      <th>city</th>\n",
       "      <th>province_name</th>\n",
       "      <th>latitude</th>\n",
       "      <th>longitude</th>\n",
       "      <th>baths</th>\n",
       "      <th>purpose</th>\n",
       "      <th>bedrooms</th>\n",
       "      <th>date_added</th>\n",
       "      <th>agency</th>\n",
       "      <th>agent</th>\n",
       "      <th>Total_Area</th>\n",
       "    </tr>\n",
       "  </thead>\n",
       "  <tbody>\n",
       "    <tr>\n",
       "      <th>0</th>\n",
       "      <td>237062</td>\n",
       "      <td>3325</td>\n",
       "      <td>https://www.zameen.com/Property/g_10_g_10_2_gr...</td>\n",
       "      <td>Flat</td>\n",
       "      <td>10000000</td>\n",
       "      <td>G-10</td>\n",
       "      <td>Islamabad</td>\n",
       "      <td>Islamabad Capital</td>\n",
       "      <td>33.679890</td>\n",
       "      <td>73.012640</td>\n",
       "      <td>2</td>\n",
       "      <td>For Sale</td>\n",
       "      <td>2</td>\n",
       "      <td>2/4/2019</td>\n",
       "      <td>NaN</td>\n",
       "      <td>NaN</td>\n",
       "      <td>1089.004</td>\n",
       "    </tr>\n",
       "    <tr>\n",
       "      <th>1</th>\n",
       "      <td>346905</td>\n",
       "      <td>3236</td>\n",
       "      <td>https://www.zameen.com/Property/e_11_2_service...</td>\n",
       "      <td>Flat</td>\n",
       "      <td>6900000</td>\n",
       "      <td>E-11</td>\n",
       "      <td>Islamabad</td>\n",
       "      <td>Islamabad Capital</td>\n",
       "      <td>33.700993</td>\n",
       "      <td>72.971492</td>\n",
       "      <td>3</td>\n",
       "      <td>For Sale</td>\n",
       "      <td>3</td>\n",
       "      <td>5/4/2019</td>\n",
       "      <td>NaN</td>\n",
       "      <td>NaN</td>\n",
       "      <td>15246.056</td>\n",
       "    </tr>\n",
       "    <tr>\n",
       "      <th>2</th>\n",
       "      <td>386513</td>\n",
       "      <td>764</td>\n",
       "      <td>https://www.zameen.com/Property/islamabad_g_15...</td>\n",
       "      <td>House</td>\n",
       "      <td>16500000</td>\n",
       "      <td>G-15</td>\n",
       "      <td>Islamabad</td>\n",
       "      <td>Islamabad Capital</td>\n",
       "      <td>33.631486</td>\n",
       "      <td>72.926559</td>\n",
       "      <td>6</td>\n",
       "      <td>For Sale</td>\n",
       "      <td>5</td>\n",
       "      <td>7/17/2019</td>\n",
       "      <td>NaN</td>\n",
       "      <td>NaN</td>\n",
       "      <td>2178.008</td>\n",
       "    </tr>\n",
       "    <tr>\n",
       "      <th>3</th>\n",
       "      <td>656161</td>\n",
       "      <td>340</td>\n",
       "      <td>https://www.zameen.com/Property/islamabad_bani...</td>\n",
       "      <td>House</td>\n",
       "      <td>43500000</td>\n",
       "      <td>Bani Gala</td>\n",
       "      <td>Islamabad</td>\n",
       "      <td>Islamabad Capital</td>\n",
       "      <td>33.707573</td>\n",
       "      <td>73.151199</td>\n",
       "      <td>4</td>\n",
       "      <td>For Sale</td>\n",
       "      <td>4</td>\n",
       "      <td>4/5/2019</td>\n",
       "      <td>NaN</td>\n",
       "      <td>NaN</td>\n",
       "      <td>10890.000</td>\n",
       "    </tr>\n",
       "    <tr>\n",
       "      <th>4</th>\n",
       "      <td>841645</td>\n",
       "      <td>3226</td>\n",
       "      <td>https://www.zameen.com/Property/dha_valley_dha...</td>\n",
       "      <td>House</td>\n",
       "      <td>7000000</td>\n",
       "      <td>DHA Defence</td>\n",
       "      <td>Islamabad</td>\n",
       "      <td>Islamabad Capital</td>\n",
       "      <td>33.492591</td>\n",
       "      <td>73.301339</td>\n",
       "      <td>3</td>\n",
       "      <td>For Sale</td>\n",
       "      <td>3</td>\n",
       "      <td>7/10/2019</td>\n",
       "      <td>Easy Property</td>\n",
       "      <td>Muhammad Junaid Ceo Muhammad Shahid Director</td>\n",
       "      <td>2178.008</td>\n",
       "    </tr>\n",
       "  </tbody>\n",
       "</table>\n",
       "</div>"
      ],
      "text/plain": [
       "   property_id  location_id  \\\n",
       "0       237062         3325   \n",
       "1       346905         3236   \n",
       "2       386513          764   \n",
       "3       656161          340   \n",
       "4       841645         3226   \n",
       "\n",
       "                                            page_url property_type     price  \\\n",
       "0  https://www.zameen.com/Property/g_10_g_10_2_gr...          Flat  10000000   \n",
       "1  https://www.zameen.com/Property/e_11_2_service...          Flat   6900000   \n",
       "2  https://www.zameen.com/Property/islamabad_g_15...         House  16500000   \n",
       "3  https://www.zameen.com/Property/islamabad_bani...         House  43500000   \n",
       "4  https://www.zameen.com/Property/dha_valley_dha...         House   7000000   \n",
       "\n",
       "      location       city      province_name   latitude  longitude  baths  \\\n",
       "0         G-10  Islamabad  Islamabad Capital  33.679890  73.012640      2   \n",
       "1         E-11  Islamabad  Islamabad Capital  33.700993  72.971492      3   \n",
       "2         G-15  Islamabad  Islamabad Capital  33.631486  72.926559      6   \n",
       "3    Bani Gala  Islamabad  Islamabad Capital  33.707573  73.151199      4   \n",
       "4  DHA Defence  Islamabad  Islamabad Capital  33.492591  73.301339      3   \n",
       "\n",
       "    purpose  bedrooms date_added         agency  \\\n",
       "0  For Sale         2   2/4/2019            NaN   \n",
       "1  For Sale         3   5/4/2019            NaN   \n",
       "2  For Sale         5  7/17/2019            NaN   \n",
       "3  For Sale         4   4/5/2019            NaN   \n",
       "4  For Sale         3  7/10/2019  Easy Property   \n",
       "\n",
       "                                          agent  Total_Area  \n",
       "0                                           NaN    1089.004  \n",
       "1                                           NaN   15246.056  \n",
       "2                                           NaN    2178.008  \n",
       "3                                           NaN   10890.000  \n",
       "4  Muhammad Junaid Ceo Muhammad Shahid Director    2178.008  "
      ]
     },
     "execution_count": 11,
     "metadata": {},
     "output_type": "execute_result"
    }
   ],
   "source": [
    "df1 = pd.read_csv('Pakistan_estate.csv')\n",
    "df1.head()"
   ]
  },
  {
   "cell_type": "code",
   "execution_count": 12,
   "id": "87ca7b5a",
   "metadata": {},
   "outputs": [
    {
     "data": {
      "text/plain": [
       "property_id          0\n",
       "location_id          0\n",
       "page_url             0\n",
       "property_type        0\n",
       "price                0\n",
       "location             0\n",
       "city                 0\n",
       "province_name        0\n",
       "latitude             0\n",
       "longitude            0\n",
       "baths                0\n",
       "purpose              0\n",
       "bedrooms             0\n",
       "date_added           0\n",
       "agency           44071\n",
       "agent            44072\n",
       "Total_Area           0\n",
       "dtype: int64"
      ]
     },
     "execution_count": 12,
     "metadata": {},
     "output_type": "execute_result"
    }
   ],
   "source": [
    "df1.isnull().sum()"
   ]
  },
  {
   "cell_type": "code",
   "execution_count": 20,
   "id": "90354c73",
   "metadata": {},
   "outputs": [
    {
     "data": {
      "text/html": [
       "<div>\n",
       "<style scoped>\n",
       "    .dataframe tbody tr th:only-of-type {\n",
       "        vertical-align: middle;\n",
       "    }\n",
       "\n",
       "    .dataframe tbody tr th {\n",
       "        vertical-align: top;\n",
       "    }\n",
       "\n",
       "    .dataframe thead th {\n",
       "        text-align: right;\n",
       "    }\n",
       "</style>\n",
       "<table border=\"1\" class=\"dataframe\">\n",
       "  <thead>\n",
       "    <tr style=\"text-align: right;\">\n",
       "      <th></th>\n",
       "      <th>property_type</th>\n",
       "      <th>price</th>\n",
       "      <th>location</th>\n",
       "      <th>city</th>\n",
       "      <th>baths</th>\n",
       "      <th>bedrooms</th>\n",
       "      <th>Total_Area</th>\n",
       "    </tr>\n",
       "  </thead>\n",
       "  <tbody>\n",
       "    <tr>\n",
       "      <th>0</th>\n",
       "      <td>Flat</td>\n",
       "      <td>10000000</td>\n",
       "      <td>G-10</td>\n",
       "      <td>Islamabad</td>\n",
       "      <td>2</td>\n",
       "      <td>2</td>\n",
       "      <td>1089.004</td>\n",
       "    </tr>\n",
       "    <tr>\n",
       "      <th>1</th>\n",
       "      <td>Flat</td>\n",
       "      <td>6900000</td>\n",
       "      <td>E-11</td>\n",
       "      <td>Islamabad</td>\n",
       "      <td>3</td>\n",
       "      <td>3</td>\n",
       "      <td>15246.056</td>\n",
       "    </tr>\n",
       "    <tr>\n",
       "      <th>2</th>\n",
       "      <td>House</td>\n",
       "      <td>16500000</td>\n",
       "      <td>G-15</td>\n",
       "      <td>Islamabad</td>\n",
       "      <td>6</td>\n",
       "      <td>5</td>\n",
       "      <td>2178.008</td>\n",
       "    </tr>\n",
       "    <tr>\n",
       "      <th>3</th>\n",
       "      <td>House</td>\n",
       "      <td>43500000</td>\n",
       "      <td>Bani Gala</td>\n",
       "      <td>Islamabad</td>\n",
       "      <td>4</td>\n",
       "      <td>4</td>\n",
       "      <td>10890.000</td>\n",
       "    </tr>\n",
       "    <tr>\n",
       "      <th>4</th>\n",
       "      <td>House</td>\n",
       "      <td>7000000</td>\n",
       "      <td>DHA Defence</td>\n",
       "      <td>Islamabad</td>\n",
       "      <td>3</td>\n",
       "      <td>3</td>\n",
       "      <td>2178.008</td>\n",
       "    </tr>\n",
       "  </tbody>\n",
       "</table>\n",
       "</div>"
      ],
      "text/plain": [
       "  property_type     price     location       city  baths  bedrooms  Total_Area\n",
       "0          Flat  10000000         G-10  Islamabad      2         2    1089.004\n",
       "1          Flat   6900000         E-11  Islamabad      3         3   15246.056\n",
       "2         House  16500000         G-15  Islamabad      6         5    2178.008\n",
       "3         House  43500000    Bani Gala  Islamabad      4         4   10890.000\n",
       "4         House   7000000  DHA Defence  Islamabad      3         3    2178.008"
      ]
     },
     "execution_count": 20,
     "metadata": {},
     "output_type": "execute_result"
    }
   ],
   "source": [
    "df2 = df1.drop(['property_id','location_id','purpose','date_added','agency','agent','page_url','latitude','longitude','province_name'],axis='columns')\n",
    "df2.head()"
   ]
  },
  {
   "cell_type": "code",
   "execution_count": 21,
   "id": "152daf34",
   "metadata": {},
   "outputs": [
    {
     "data": {
      "text/plain": [
       "property_type    0\n",
       "price            0\n",
       "location         0\n",
       "city             0\n",
       "baths            0\n",
       "bedrooms         0\n",
       "Total_Area       0\n",
       "dtype: int64"
      ]
     },
     "execution_count": 21,
     "metadata": {},
     "output_type": "execute_result"
    }
   ],
   "source": [
    "df2.isnull().sum()"
   ]
  },
  {
   "cell_type": "code",
   "execution_count": 26,
   "id": "b6515c90",
   "metadata": {},
   "outputs": [
    {
     "data": {
      "text/plain": [
       "city\n",
       "Faisalabad     8133\n",
       "Islamabad     37426\n",
       "Karachi       60484\n",
       "Lahore        41427\n",
       "Rawalpindi    20976\n",
       "Name: city, dtype: int64"
      ]
     },
     "execution_count": 26,
     "metadata": {},
     "output_type": "execute_result"
    }
   ],
   "source": [
    "df2.groupby('city')['city'].agg('count')"
   ]
  },
  {
   "cell_type": "code",
   "execution_count": 27,
   "id": "7d7fadda",
   "metadata": {},
   "outputs": [
    {
     "data": {
      "text/plain": [
       "property_type\n",
       "Farm House          657\n",
       "Flat              38238\n",
       "House            105468\n",
       "Lower Portion      9229\n",
       "Penthouse           395\n",
       "Room                685\n",
       "Upper Portion     13774\n",
       "Name: property_type, dtype: int64"
      ]
     },
     "execution_count": 27,
     "metadata": {},
     "output_type": "execute_result"
    }
   ],
   "source": [
    "df2.groupby('property_type')['property_type'].agg('count')"
   ]
  },
  {
   "cell_type": "code",
   "execution_count": 31,
   "id": "cd9b1b84",
   "metadata": {},
   "outputs": [
    {
     "data": {
      "text/plain": [
       "array([ 2,  3,  5,  4,  8,  7,  0,  1,  6, 10, 12,  9, 11, 14, 15, 16, 13,\n",
       "       18, 28, 25, 21, 68, 27], dtype=int64)"
      ]
     },
     "execution_count": 31,
     "metadata": {},
     "output_type": "execute_result"
    }
   ],
   "source": [
    "df2['bedrooms'].unique()"
   ]
  },
  {
   "cell_type": "code",
   "execution_count": null,
   "id": "13ba2197",
   "metadata": {},
   "outputs": [],
   "source": [
    "def plot_scatter_chart(df,location):\n",
    "    bhk2 = df[(df.location==location) & (df.bhk==2)]\n",
    "    bhk3 = df[(df.location==location) & (df.bhk==3)]\n",
    "    matplotlib.rcParams['figure.figsize'] = (15,10)\n",
    "    plt.scatter(bhk2.total_sqft,bhk2.price_per_sqft,color='blue',label='2 BHK', s=50)\n",
    "    plt.scatter(bhk3.total_sqft,bhk3.price_per_sqft,marker='+',color='green',label='3 BHK', s=50)    \n",
    "    plt.xlabel('Total Square Feet Area')\n",
    "    plt.ylabel('Price Per Square Feet')\n",
    "    plt.title(location)\n",
    "    plt.legend()\n",
    "    plot_scatter_chart(df7,'Rajaji Nagar')"
   ]
  }
 ],
 "metadata": {
  "kernelspec": {
   "display_name": "Python 3 (ipykernel)",
   "language": "python",
   "name": "python3"
  },
  "language_info": {
   "codemirror_mode": {
    "name": "ipython",
    "version": 3
   },
   "file_extension": ".py",
   "mimetype": "text/x-python",
   "name": "python",
   "nbconvert_exporter": "python",
   "pygments_lexer": "ipython3",
   "version": "3.9.12"
  }
 },
 "nbformat": 4,
 "nbformat_minor": 5
}
